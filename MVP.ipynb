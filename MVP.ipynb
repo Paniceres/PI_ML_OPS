{
 "cells": [
  {
   "cell_type": "code",
   "execution_count": 1,
   "metadata": {},
   "outputs": [],
   "source": [
    "import pandas as pd"
   ]
  },
  {
   "cell_type": "code",
   "execution_count": 2,
   "metadata": {},
   "outputs": [],
   "source": [
    "def developer(desarrollador: str):\n",
    "    # Initialize your data here. You might want to fetch this from a database or a file.\n",
    "    data = {\n",
    "        \"2023\": {\"items\": 50, \"free_content\": 27},\n",
    "        \"2022\": {\"items\": 45, \"free_content\": 25},\n",
    "        # Add more years as needed\n",
    "    }\n",
    "\n",
    "    # Fetch the data for the given developer\n",
    "    developer_data = data.get(desarrollador)\n",
    "\n",
    "    if developer_data is None:\n",
    "        return \"No data available for this developer.\"\n",
    "\n",
    "    # Format the data for output\n",
    "    output = []\n",
    "    for year, stats in developer_data.items():\n",
    "        output.append(f\"{year}\\t{stats['items']}\\t{stats['free_content']}%\")\n",
    "\n",
    "    return \"\\n\".join(output)"
   ]
  },
  {
   "cell_type": "code",
   "execution_count": 4,
   "metadata": {},
   "outputs": [
    {
     "name": "stdout",
     "output_type": "stream",
     "text": [
      "No data available for this developer.\n"
     ]
    }
   ],
   "source": [
    "# Read the data from the CSV file\n",
    "df = pd.read_csv('/home/p/Code/Henry/PI_ML_OPS/df_steam_games.csv')\n",
    "\n",
    "# Use the function\n",
    "result = developer('Kotoshiro')\n",
    "\n",
    "# Print the result\n",
    "print(result)"
   ]
  }
 ],
 "metadata": {
  "kernelspec": {
   "display_name": ".venv",
   "language": "python",
   "name": "python3"
  },
  "language_info": {
   "codemirror_mode": {
    "name": "ipython",
    "version": 3
   },
   "file_extension": ".py",
   "mimetype": "text/x-python",
   "name": "python",
   "nbconvert_exporter": "python",
   "pygments_lexer": "ipython3",
   "version": "3.11.5"
  }
 },
 "nbformat": 4,
 "nbformat_minor": 2
}
